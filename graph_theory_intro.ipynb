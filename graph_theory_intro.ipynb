{
 "cells": [
  {
   "cell_type": "code",
   "execution_count": null,
   "id": "216b5e5b",
   "metadata": {},
   "outputs": [],
   "source": [
    "import numpy as np\n",
    "import pandas as pd\n",
    "import matplotlib.pyplot as plt\n",
    "from scipy.spatial import Voronoi, voronoi_plot_2d, KDTree\n",
    "import networkx as nx\n",
    "from mpl_toolkits.mplot3d import Axes3D"
   ]
  },
  {
   "cell_type": "markdown",
   "id": "289febc1",
   "metadata": {},
   "source": [
    "# A light introduction to Graph Theory\n",
    "\n",
    "## Introduction\n",
    "Welcome scientists!\n",
    "\n",
    "You are working with experimental collaborators to build a model of a developmental system. The process studied begins with one stem cell that divides repeatedly over the course of 48 hours. At the end of this developmental time window, the scientists take z-stack microscopy images of the full cluster of cells and use automated cell segmentation software to find the centroid of each cell. You are provided with this centroid data."
   ]
  },
  {
   "cell_type": "code",
   "execution_count": null,
   "id": "81bd5b4c",
   "metadata": {},
   "outputs": [],
   "source": [
    "# Generating in-silico centroid data\n",
    "\n",
    "# Set seed for reproducibility\n",
    "np.random.seed(0)\n",
    "\n",
    "# Generate 2 populations of centroids with slightly different distributions\n",
    "n_cells = 50\n",
    "\n",
    "# Graph 1: Random uniform points in cube\n",
    "centroids1 = np.random.rand(n_cells, 3)\n",
    "\n",
    "# Graph 2: Long, skinny cloud with clustered ends and bridging points\n",
    "cluster_centers = np.array([[0.3, 0.3, 0.3], [0.7, 0.7, 0.7]])\n",
    "n_cluster = n_cells // 2 - 5  # leave room for bridging cells\n",
    "n_bridge = 6  # number of intermediate cells\n",
    "\n",
    "# Clusters with Gaussian noise\n",
    "cluster_points = np.vstack([\n",
    "    center + 0.05 * np.random.randn(n_cluster, 3)\n",
    "    for center in cluster_centers\n",
    "])\n",
    "\n",
    "# Bridge: Uniformly distributed points along the line between clusters\n",
    "bridge_line = np.linspace(cluster_centers[0], cluster_centers[1], n_bridge + 2)[1:-1]\n",
    "bridge_noise = 0.01 * np.random.randn(n_bridge, 3)\n",
    "bridge_points = bridge_line + bridge_noise\n",
    "\n",
    "# Combine clusters and bridge\n",
    "centroids2 = np.vstack([cluster_points, bridge_points])"
   ]
  },
  {
   "cell_type": "code",
   "execution_count": null,
   "id": "05555791",
   "metadata": {},
   "outputs": [],
   "source": [
    "fig = plt.figure(figsize=(12, 5))\n",
    "\n",
    "ax1 = fig.add_subplot(121, projection='3d')\n",
    "ax1.scatter(*centroids1.T)\n",
    "ax1.set_title(\"Graph 1: Uniform Cloud\")\n",
    "\n",
    "ax2 = fig.add_subplot(122, projection='3d')\n",
    "ax2.scatter(*centroids2.T, color='orange')\n",
    "ax2.set_title(\"Graph 2: Elongated Cloud\")\n",
    "\n",
    "plt.show()"
   ]
  },
  {
   "cell_type": "markdown",
   "id": "5c506794",
   "metadata": {},
   "source": [
    "Visually you can tell which cluster is which, but you need quantitative metrics that differentiate the morphologies so that you can evaluate which morphology your model output resembles more closely."
   ]
  },
  {
   "cell_type": "markdown",
   "id": "b1d984b5",
   "metadata": {},
   "source": [
    "**Discussion Question:**\n",
    "- What metrics do you think might best differentiate between these cell clusters (metrics we discussed today or otherwise)?"
   ]
  },
  {
   "cell_type": "markdown",
   "id": "f28c4a5b",
   "metadata": {},
   "source": [
    "## Voronoi Tesselation\n",
    "\n",
    "For the purposes of this notebook, you decide to pursue graph metrics as a potential method for differentiating between these morphologies. You want to make a graph where each cell is a node and edges exist between neighbor cells. However, you do not have adjacency information describing which cells are neighbors. You decide to use Voronoi Tesselation to estimate adjacency from the centroid data."
   ]
  },
  {
   "cell_type": "code",
   "execution_count": null,
   "id": "92bcb9ed",
   "metadata": {},
   "outputs": [],
   "source": [
    "def build_voronoi_graph(points):\n",
    "    vor = Voronoi(points)\n",
    "    G = nx.Graph() # Initialize an empty graph\n",
    "\n",
    "    # Add nodes with positions\n",
    "    for i, point in enumerate(points):\n",
    "        G.add_node(i, pos=point)\n",
    "\n",
    "    # Ridge points are pairs of indices whose cells share a Voronoi ridge (an edge in the Voronoi diagram)\n",
    "    for p1, p2 in vor.ridge_points:\n",
    "        G.add_edge(p1, p2)\n",
    "\n",
    "    return G"
   ]
  },
  {
   "cell_type": "code",
   "execution_count": null,
   "id": "5788500a",
   "metadata": {},
   "outputs": [],
   "source": [
    "G1 = build_voronoi_graph(centroids1)\n",
    "G2 = build_voronoi_graph(centroids2)"
   ]
  },
  {
   "cell_type": "code",
   "execution_count": null,
   "id": "23536912",
   "metadata": {},
   "outputs": [],
   "source": [
    "def draw_graph_3d(G, title):\n",
    "    fig = plt.figure()\n",
    "    ax = fig.add_subplot(111, projection='3d')\n",
    "    pos = nx.get_node_attributes(G, 'pos')\n",
    "\n",
    "    for i, j in G.edges():\n",
    "        xs, ys, zs = zip(pos[i], pos[j])\n",
    "        ax.plot(xs, ys, zs, color='gray', alpha=0.5)\n",
    "\n",
    "    for i, p in pos.items():\n",
    "        ax.scatter(*p, color='red')\n",
    "\n",
    "    ax.set_title(title)\n",
    "    plt.show()\n",
    "\n",
    "draw_graph_3d(G1, \"Graph 1: Uniform\")\n",
    "draw_graph_3d(G2, \"Graph 2: Elongated\")"
   ]
  },
  {
   "cell_type": "markdown",
   "id": "2500edb2",
   "metadata": {},
   "source": [
    "**Discussion Question:**\n",
    "- For which cell cluster does the Voronoi estimated adjacency seem more accurate? In what circumstances might Voronoi tesselation be a more vs less accurate way of estimating cell adjacency from centroid data?"
   ]
  },
  {
   "cell_type": "markdown",
   "id": "853f9a33",
   "metadata": {},
   "source": [
    "## Graph Metrics\n",
    "\n",
    "Now you have graphs! Very exciting! Next you want to evaluate whether these graphs differ according to standard graph metrics like the mean node clustering coefficient, the mean node degree, the mean node eccentricity, the graph radius, and the graph diameter."
   ]
  },
  {
   "cell_type": "markdown",
   "id": "1a50d65f",
   "metadata": {},
   "source": [
    "Discussion Questions:\n",
    "- What is a node's degree? When do we expect average node degree to be high? When do we expect it to be low?\n",
    "- What is a node's clustering coefficient? When do we expect the clustering coefficient to be high vs low?\n",
    "- What is a node's eccentricity? When do we expect the eccentricity to be high vs low?\n",
    "- What is a graph's radius? When do we expect the radius to be high vs low?\n",
    "- What is a graph's diameter? When do we expect the diameter to be high vs low?\n",
    "- For each of these metrics, which of the clusters do you expect to be higher vs lower? (Or do you expect them to be roughly equal)?"
   ]
  },
  {
   "cell_type": "markdown",
   "id": "27fe9ee1",
   "metadata": {},
   "source": [
    "The function below calculates these graph metrics for a provided graph. Use the function to compare graph metrics between G1 and G2."
   ]
  },
  {
   "cell_type": "code",
   "execution_count": null,
   "id": "a6694baa",
   "metadata": {},
   "outputs": [],
   "source": [
    "def graph_metrics(G):\n",
    "    metrics = {}\n",
    "\n",
    "    # Average clustering is defined for any graph\n",
    "    metrics[\"average_clustering\"] = nx.average_clustering(G)\n",
    "\n",
    "    # Degree-based metrics\n",
    "    degrees = [d for _, d in G.degree()]\n",
    "    metrics[\"avg_degree\"] = np.mean(degrees)\n",
    "\n",
    "    # Handle connected-only metrics safely\n",
    "    if nx.is_connected(G):\n",
    "        ecc = nx.eccentricity(G)\n",
    "        metrics[\"eccentricity_mean\"] = np.mean(list(ecc.values()))\n",
    "        metrics[\"radius\"] = nx.radius(G)\n",
    "        metrics[\"diameter\"] = nx.diameter(G)\n",
    "    else:\n",
    "        print(\"Warning: Graph is not connected. Skipping eccentricity, radius, and diameter.\")\n",
    "        metrics[\"eccentricity_mean\"] = None\n",
    "        metrics[\"radius\"] = None\n",
    "        metrics[\"diameter\"] = None\n",
    "\n",
    "    return metrics"
   ]
  },
  {
   "cell_type": "code",
   "execution_count": null,
   "id": "1882a89b",
   "metadata": {},
   "outputs": [],
   "source": [
    "# Use the function above to calculate graph metrics for G1 and G2\n"
   ]
  },
  {
   "cell_type": "markdown",
   "id": "d0b95631",
   "metadata": {},
   "source": [
    "Discussion Question:\n",
    "- Comparing the metrics between the two morphologies, how do they compare to your expectations?"
   ]
  },
  {
   "cell_type": "markdown",
   "id": "09b44206",
   "metadata": {},
   "source": [
    "## Refining the graphs\n",
    "\n",
    "When building the graph above, we drew an edge between all cells that are adjacent in the Vorronoi diagram. This potentially led to the addition of some unlikely edges between centroids on either end of the elongated cluster. Instead, we can limit the graph so edges are only added between nodes and their k nearest neighbors."
   ]
  },
  {
   "cell_type": "code",
   "execution_count": null,
   "id": "a9a59ccb",
   "metadata": {},
   "outputs": [],
   "source": [
    "def build_neighbor_limited_voronoi_graph(points, num_neighbors):\n",
    "    tree = KDTree(points)\n",
    "    G = nx.Graph()\n",
    "\n",
    "    for i, p in enumerate(points):\n",
    "        G.add_node(i, pos=p)\n",
    "        # Connect to num_neighbors nearest neighbors (approx Voronoi)\n",
    "        dists, idxs = tree.query(p, k=num_neighbors)  # num_neighbors nearest neighbors + self\n",
    "        for j in idxs[1:]:\n",
    "            G.add_edge(i, j)\n",
    "\n",
    "    return G"
   ]
  },
  {
   "cell_type": "markdown",
   "id": "5a532ba8",
   "metadata": {},
   "source": [
    "Run the cells below to construct new graphs using this function and to compare their graph metrics. Change the value assigned to num_neighbors to see how imposing a number of neighbors on each node affects overall graph metrics"
   ]
  },
  {
   "cell_type": "code",
   "execution_count": null,
   "id": "dad174cc",
   "metadata": {},
   "outputs": [],
   "source": [
    "num_neighbors = 5\n",
    "\n",
    "G1 = build_neighbor_limited_voronoi_graph(centroids1, num_neighbors)\n",
    "G2 = build_neighbor_limited_voronoi_graph(centroids2, num_neighbors)\n",
    "draw_graph_3d(G1, \"Uniform\")\n",
    "draw_graph_3d(G2, \"Clustered\")"
   ]
  },
  {
   "cell_type": "code",
   "execution_count": null,
   "id": "97e59a12",
   "metadata": {},
   "outputs": [],
   "source": [
    "metrics1 = graph_metrics(G1)\n",
    "metrics2 = graph_metrics(G2)\n",
    "pd.DataFrame([metrics1, metrics2], index=[\"Graph 1\", \"Graph 2\"])"
   ]
  },
  {
   "cell_type": "markdown",
   "id": "923b51d6",
   "metadata": {},
   "source": [
    "Discussion questions:\n",
    "- Which graph metrics are explicitely limited by imposing a number of neighbors for each node?\n",
    "- Why is the average degree greater than the number provided to num_neighbors?\n",
    "- When might you want to impose a number of neighbors on each node in a graph? When would it be best to avoid imposing numbers of neighbors in a graph?"
   ]
  }
 ],
 "metadata": {
  "kernelspec": {
   "display_name": "neurogen_analysis",
   "language": "python",
   "name": "python3"
  },
  "language_info": {
   "codemirror_mode": {
    "name": "ipython",
    "version": 3
   },
   "file_extension": ".py",
   "mimetype": "text/x-python",
   "name": "python",
   "nbconvert_exporter": "python",
   "pygments_lexer": "ipython3",
   "version": "3.11.9"
  }
 },
 "nbformat": 4,
 "nbformat_minor": 5
}
